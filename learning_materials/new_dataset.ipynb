{
 "cells": [
  {
   "cell_type": "code",
   "execution_count": 5,
   "metadata": {},
   "outputs": [],
   "source": [
    "import pandas as pd\n",
    "DATA_URL = ('https://data.sfgov.org/resource/tpyr-dvnc.csv?$$app_token=yh5qaeaJSvJrdOSv77ZnroO2u')\n",
    "DATE_COLUMN = 'last_updated_at'"
   ]
  },
  {
   "cell_type": "code",
   "execution_count": 18,
   "metadata": {},
   "outputs": [
    {
     "output_type": "execute_result",
     "data": {
      "text/plain": "   zip_code  count       rate  deaths  acs_population         last_updated_at\n6     94118   46.0  11.092891     NaN           41468 2020-06-10 17:44:26.930\n7     94111    NaN        NaN     0.0            3620 2020-06-10 17:44:26.930\n17    94122   72.0  11.588418     NaN           62131 2020-06-10 17:44:26.930\n22    94123   37.0  14.263136     0.0           25941 2020-06-10 17:44:26.930\n26    94127   28.0  13.070065     0.0           21423 2020-06-10 17:44:26.930",
      "text/html": "<div>\n<style scoped>\n    .dataframe tbody tr th:only-of-type {\n        vertical-align: middle;\n    }\n\n    .dataframe tbody tr th {\n        vertical-align: top;\n    }\n\n    .dataframe thead th {\n        text-align: right;\n    }\n</style>\n<table border=\"1\" class=\"dataframe\">\n  <thead>\n    <tr style=\"text-align: right;\">\n      <th></th>\n      <th>zip_code</th>\n      <th>count</th>\n      <th>rate</th>\n      <th>deaths</th>\n      <th>acs_population</th>\n      <th>last_updated_at</th>\n    </tr>\n  </thead>\n  <tbody>\n    <tr>\n      <th>6</th>\n      <td>94118</td>\n      <td>46.0</td>\n      <td>11.092891</td>\n      <td>NaN</td>\n      <td>41468</td>\n      <td>2020-06-10 17:44:26.930</td>\n    </tr>\n    <tr>\n      <th>7</th>\n      <td>94111</td>\n      <td>NaN</td>\n      <td>NaN</td>\n      <td>0.0</td>\n      <td>3620</td>\n      <td>2020-06-10 17:44:26.930</td>\n    </tr>\n    <tr>\n      <th>17</th>\n      <td>94122</td>\n      <td>72.0</td>\n      <td>11.588418</td>\n      <td>NaN</td>\n      <td>62131</td>\n      <td>2020-06-10 17:44:26.930</td>\n    </tr>\n    <tr>\n      <th>22</th>\n      <td>94123</td>\n      <td>37.0</td>\n      <td>14.263136</td>\n      <td>0.0</td>\n      <td>25941</td>\n      <td>2020-06-10 17:44:26.930</td>\n    </tr>\n    <tr>\n      <th>26</th>\n      <td>94127</td>\n      <td>28.0</td>\n      <td>13.070065</td>\n      <td>0.0</td>\n      <td>21423</td>\n      <td>2020-06-10 17:44:26.930</td>\n    </tr>\n  </tbody>\n</table>\n</div>"
     },
     "metadata": {},
     "execution_count": 18
    }
   ],
   "source": [
    "def load_data(nrows):\n",
    "    # Caches the data\n",
    "    # Cleans up the dates and ZIP codes\n",
    "    data = pd.read_csv(DATA_URL, nrows=nrows)\n",
    "    data[DATE_COLUMN] = pd.to_datetime(data[DATE_COLUMN])\n",
    "    data = data[data['area_type']=='ZCTA']\n",
    "    data = data.drop(['area_type', 'multipolygon'], axis=1).rename(columns={'id': 'zip_code'})\n",
    "    #data = data.reset_index()\n",
    "    return data\n",
    "\n",
    "data = load_data(264)\n",
    "data.head()"
   ]
  },
  {
   "cell_type": "code",
   "execution_count": 42,
   "metadata": {},
   "outputs": [
    {
     "output_type": "execute_result",
     "data": {
      "text/plain": "      County Name Most Recent Date  Total Count Confirmed  Total Count Deaths  \\\n0     Los Angeles       2020-04-01                 3502.0                66.0   \n1  San Bernardino       2020-04-01                  245.0                 5.0   \n2          Orange       2020-04-01                  579.0                11.0   \n3       Riverside       2020-04-01                  306.0                11.0   \n4      Sacramento       2020-04-01                  299.0                 8.0   \n\n   COVID-19 Positive Patients  Suspected COVID-19 Positive Patients  \\\n0                       739.0                                1332.0   \n1                        95.0                                 196.0   \n2                       117.0                                 221.0   \n3                        85.0                                 182.0   \n4                        53.0                                 138.0   \n\n   ICU COVID-19 Positive Patients  ICU COVID-19 Suspected Patients  \n0                           335.0                            220.0  \n1                            39.0                             52.0  \n2                            50.0                             48.0  \n3                            29.0                             47.0  \n4                            20.0                             33.0  ",
      "text/html": "<div>\n<style scoped>\n    .dataframe tbody tr th:only-of-type {\n        vertical-align: middle;\n    }\n\n    .dataframe tbody tr th {\n        vertical-align: top;\n    }\n\n    .dataframe thead th {\n        text-align: right;\n    }\n</style>\n<table border=\"1\" class=\"dataframe\">\n  <thead>\n    <tr style=\"text-align: right;\">\n      <th></th>\n      <th>County Name</th>\n      <th>Most Recent Date</th>\n      <th>Total Count Confirmed</th>\n      <th>Total Count Deaths</th>\n      <th>COVID-19 Positive Patients</th>\n      <th>Suspected COVID-19 Positive Patients</th>\n      <th>ICU COVID-19 Positive Patients</th>\n      <th>ICU COVID-19 Suspected Patients</th>\n    </tr>\n  </thead>\n  <tbody>\n    <tr>\n      <th>0</th>\n      <td>Los Angeles</td>\n      <td>2020-04-01</td>\n      <td>3502.0</td>\n      <td>66.0</td>\n      <td>739.0</td>\n      <td>1332.0</td>\n      <td>335.0</td>\n      <td>220.0</td>\n    </tr>\n    <tr>\n      <th>1</th>\n      <td>San Bernardino</td>\n      <td>2020-04-01</td>\n      <td>245.0</td>\n      <td>5.0</td>\n      <td>95.0</td>\n      <td>196.0</td>\n      <td>39.0</td>\n      <td>52.0</td>\n    </tr>\n    <tr>\n      <th>2</th>\n      <td>Orange</td>\n      <td>2020-04-01</td>\n      <td>579.0</td>\n      <td>11.0</td>\n      <td>117.0</td>\n      <td>221.0</td>\n      <td>50.0</td>\n      <td>48.0</td>\n    </tr>\n    <tr>\n      <th>3</th>\n      <td>Riverside</td>\n      <td>2020-04-01</td>\n      <td>306.0</td>\n      <td>11.0</td>\n      <td>85.0</td>\n      <td>182.0</td>\n      <td>29.0</td>\n      <td>47.0</td>\n    </tr>\n    <tr>\n      <th>4</th>\n      <td>Sacramento</td>\n      <td>2020-04-01</td>\n      <td>299.0</td>\n      <td>8.0</td>\n      <td>53.0</td>\n      <td>138.0</td>\n      <td>20.0</td>\n      <td>33.0</td>\n    </tr>\n  </tbody>\n</table>\n</div>"
     },
     "metadata": {},
     "execution_count": 42
    }
   ],
   "source": [
    "CA_DATA_URL = 'https://data.chhs.ca.gov/dataset/6882c390-b2d7-4b9a-aefa-2068cee63e47/resource/6cd8d424-dfaa-4bdd-9410-a3d656e1176e/download/covid19data.csv'\n",
    "CA_DATE_COL = 'Most Recent Date'\n",
    "\n",
    "def load_ca_data():\n",
    "    ca_data = pd.read_csv(CA_DATA_URL)\n",
    "    #lowercase = lambda x: str(x).lower()\n",
    "    #data.rename(lowercase, axis='columns', inplace=True)\n",
    "    ca_data.loc[:, CA_DATE_COL] = pd.to_datetime(ca_data.loc[:, CA_DATE_COL], format='%m/%d/%Y', infer_datetime_format=True)\n",
    "    return ca_data\n",
    "\n",
    "ca_data = load_ca_data()\n",
    "ca_data.head()"
   ]
  },
  {
   "cell_type": "code",
   "execution_count": 33,
   "metadata": {},
   "outputs": [
    {
     "output_type": "execute_result",
     "data": {
      "text/plain": "County Name                                     object\nMost Recent Date                                object\nTotal Count Confirmed                          float64\nTotal Count Deaths                             float64\nCOVID-19 Positive Patients                     float64\nSuspected COVID-19 Positive Patients           float64\nICU COVID-19 Positive Patients                 float64\nICU COVID-19 Suspected Patients                float64\nlast_updated_at                         datetime64[ns]\ndtype: object"
     },
     "metadata": {},
     "execution_count": 33
    }
   ],
   "source": [
    "ca_data.dtypes"
   ]
  },
  {
   "cell_type": "code",
   "execution_count": 46,
   "metadata": {},
   "outputs": [
    {
     "output_type": "execute_result",
     "data": {
      "text/plain": "                 hospital       date              bed_type  \\\n0  All SF Acute Hospitals 2020-04-03  Intensive Care Surge   \n1  All SF Acute Hospitals 2020-04-03            Acute Care   \n2  All SF Acute Hospitals 2020-04-03      Acute Care Surge   \n3  All SF Acute Hospitals 2020-04-03        Intensive Care   \n4  All SF Acute Hospitals 2020-04-03        Intensive Care   \n\n                             status  count  \n0                         Available    312  \n1                         Available    743  \n2                         Available    375  \n3                         Available    147  \n4  COVID-19 (Confirmed & Suspected)     41  ",
      "text/html": "<div>\n<style scoped>\n    .dataframe tbody tr th:only-of-type {\n        vertical-align: middle;\n    }\n\n    .dataframe tbody tr th {\n        vertical-align: top;\n    }\n\n    .dataframe thead th {\n        text-align: right;\n    }\n</style>\n<table border=\"1\" class=\"dataframe\">\n  <thead>\n    <tr style=\"text-align: right;\">\n      <th></th>\n      <th>hospital</th>\n      <th>date</th>\n      <th>bed_type</th>\n      <th>status</th>\n      <th>count</th>\n    </tr>\n  </thead>\n  <tbody>\n    <tr>\n      <th>0</th>\n      <td>All SF Acute Hospitals</td>\n      <td>2020-04-03</td>\n      <td>Intensive Care Surge</td>\n      <td>Available</td>\n      <td>312</td>\n    </tr>\n    <tr>\n      <th>1</th>\n      <td>All SF Acute Hospitals</td>\n      <td>2020-04-03</td>\n      <td>Acute Care</td>\n      <td>Available</td>\n      <td>743</td>\n    </tr>\n    <tr>\n      <th>2</th>\n      <td>All SF Acute Hospitals</td>\n      <td>2020-04-03</td>\n      <td>Acute Care Surge</td>\n      <td>Available</td>\n      <td>375</td>\n    </tr>\n    <tr>\n      <th>3</th>\n      <td>All SF Acute Hospitals</td>\n      <td>2020-04-03</td>\n      <td>Intensive Care</td>\n      <td>Available</td>\n      <td>147</td>\n    </tr>\n    <tr>\n      <th>4</th>\n      <td>All SF Acute Hospitals</td>\n      <td>2020-04-03</td>\n      <td>Intensive Care</td>\n      <td>COVID-19 (Confirmed &amp; Suspected)</td>\n      <td>41</td>\n    </tr>\n  </tbody>\n</table>\n</div>"
     },
     "metadata": {},
     "execution_count": 46
    }
   ],
   "source": [
    "cap_url = 'https://data.sfgov.org/resource/rh24-ebzg.csv?&&$$app_token=yh5qaeaJSvJrdOSv77ZnroO2u'\n",
    "hospital_cap = pd.read_csv(cap_url)\n",
    "hospital_cap['date'] = pd.to_datetime(hospital_cap['date'])\n",
    "hospital_cap.head()"
   ]
  },
  {
   "cell_type": "code",
   "execution_count": 47,
   "metadata": {},
   "outputs": [
    {
     "output_type": "execute_result",
     "data": {
      "text/plain": "                                                       count\nbed_type             status                                 \nAcute Care           Available                         37725\n                     COVID-19 (Confirmed & Suspected)   4312\n                     Other Patients                    49103\nAcute Care Surge     Available                         26250\nIntensive Care       Available                          7913\n                     COVID-19 (Confirmed & Suspected)   2219\n                     Other Patients                     9398\nIntensive Care Surge Available                         21840",
      "text/html": "<div>\n<style scoped>\n    .dataframe tbody tr th:only-of-type {\n        vertical-align: middle;\n    }\n\n    .dataframe tbody tr th {\n        vertical-align: top;\n    }\n\n    .dataframe thead th {\n        text-align: right;\n    }\n</style>\n<table border=\"1\" class=\"dataframe\">\n  <thead>\n    <tr style=\"text-align: right;\">\n      <th></th>\n      <th></th>\n      <th>count</th>\n    </tr>\n    <tr>\n      <th>bed_type</th>\n      <th>status</th>\n      <th></th>\n    </tr>\n  </thead>\n  <tbody>\n    <tr>\n      <th rowspan=\"3\" valign=\"top\">Acute Care</th>\n      <th>Available</th>\n      <td>37725</td>\n    </tr>\n    <tr>\n      <th>COVID-19 (Confirmed &amp; Suspected)</th>\n      <td>4312</td>\n    </tr>\n    <tr>\n      <th>Other Patients</th>\n      <td>49103</td>\n    </tr>\n    <tr>\n      <th>Acute Care Surge</th>\n      <th>Available</th>\n      <td>26250</td>\n    </tr>\n    <tr>\n      <th rowspan=\"3\" valign=\"top\">Intensive Care</th>\n      <th>Available</th>\n      <td>7913</td>\n    </tr>\n    <tr>\n      <th>COVID-19 (Confirmed &amp; Suspected)</th>\n      <td>2219</td>\n    </tr>\n    <tr>\n      <th>Other Patients</th>\n      <td>9398</td>\n    </tr>\n    <tr>\n      <th>Intensive Care Surge</th>\n      <th>Available</th>\n      <td>21840</td>\n    </tr>\n  </tbody>\n</table>\n</div>"
     },
     "metadata": {},
     "execution_count": 47
    }
   ],
   "source": [
    "hospital_cap.groupby(['bed_type', 'status']).sum()"
   ]
  },
  {
   "cell_type": "code",
   "execution_count": 49,
   "metadata": {},
   "outputs": [
    {
     "output_type": "execute_result",
     "data": {
      "text/plain": "  reportdate          hospital dphcategory covidstatus  patientcount\n0 2020-03-23  All SF Hospitals    Med/Surg      COVID+            12\n1 2020-03-24  All SF Hospitals    Med/Surg      COVID+            20\n2 2020-03-25  All SF Hospitals    Med/Surg      COVID+            22\n3 2020-03-26  All SF Hospitals    Med/Surg      COVID+            19\n4 2020-03-27  All SF Hospitals    Med/Surg      COVID+            28",
      "text/html": "<div>\n<style scoped>\n    .dataframe tbody tr th:only-of-type {\n        vertical-align: middle;\n    }\n\n    .dataframe tbody tr th {\n        vertical-align: top;\n    }\n\n    .dataframe thead th {\n        text-align: right;\n    }\n</style>\n<table border=\"1\" class=\"dataframe\">\n  <thead>\n    <tr style=\"text-align: right;\">\n      <th></th>\n      <th>reportdate</th>\n      <th>hospital</th>\n      <th>dphcategory</th>\n      <th>covidstatus</th>\n      <th>patientcount</th>\n    </tr>\n  </thead>\n  <tbody>\n    <tr>\n      <th>0</th>\n      <td>2020-03-23</td>\n      <td>All SF Hospitals</td>\n      <td>Med/Surg</td>\n      <td>COVID+</td>\n      <td>12</td>\n    </tr>\n    <tr>\n      <th>1</th>\n      <td>2020-03-24</td>\n      <td>All SF Hospitals</td>\n      <td>Med/Surg</td>\n      <td>COVID+</td>\n      <td>20</td>\n    </tr>\n    <tr>\n      <th>2</th>\n      <td>2020-03-25</td>\n      <td>All SF Hospitals</td>\n      <td>Med/Surg</td>\n      <td>COVID+</td>\n      <td>22</td>\n    </tr>\n    <tr>\n      <th>3</th>\n      <td>2020-03-26</td>\n      <td>All SF Hospitals</td>\n      <td>Med/Surg</td>\n      <td>COVID+</td>\n      <td>19</td>\n    </tr>\n    <tr>\n      <th>4</th>\n      <td>2020-03-27</td>\n      <td>All SF Hospitals</td>\n      <td>Med/Surg</td>\n      <td>COVID+</td>\n      <td>28</td>\n    </tr>\n  </tbody>\n</table>\n</div>"
     },
     "metadata": {},
     "execution_count": 49
    }
   ],
   "source": [
    "hospitalizations_url = 'https://data.sfgov.org/resource/nxjg-bhem.csv?$$app_token=yh5qaeaJSvJrdOSv77ZnroO2u'\n",
    "hospitalizations = pd.read_csv(hospitalizations_url)\n",
    "hospitalizations['reportdate'] = pd.to_datetime(hospitalizations['reportdate'])\n",
    "hospitalizations.head()"
   ]
  },
  {
   "cell_type": "code",
   "execution_count": 53,
   "metadata": {},
   "outputs": [
    {
     "output_type": "execute_result",
     "data": {
      "application/vnd.vegalite.v3+json": {
       "config": {
        "view": {
         "width": 400,
         "height": 300
        },
        "mark": {
         "tooltip": null
        }
       },
       "data": {
        "name": "data-2c07d482e8fc4c4a480955690d6152e4"
       },
       "mark": "circle",
       "encoding": {
        "color": {
         "type": "nominal",
         "field": "dphcategory"
        },
        "tooltip": [
         {
          "type": "temporal",
          "field": "reportdate"
         },
         {
          "type": "quantitative",
          "field": "patientcount"
         }
        ],
        "x": {
         "type": "temporal",
         "field": "reportdate"
        },
        "y": {
         "type": "quantitative",
         "field": "patientcount"
        }
       },
       "selection": {
        "selector002": {
         "type": "interval",
         "bind": "scales",
         "encodings": [
          "x",
          "y"
         ]
        }
       },
       "$schema": "https://vega.github.io/schema/vega-lite/v3.4.0.json",
       "datasets": {
        "data-2c07d482e8fc4c4a480955690d6152e4": [
         {
          "reportdate": "2020-03-23T00:00:00",
          "hospital": "All SF Hospitals",
          "dphcategory": "Med/Surg",
          "covidstatus": "COVID+",
          "patientcount": 12
         },
         {
          "reportdate": "2020-03-24T00:00:00",
          "hospital": "All SF Hospitals",
          "dphcategory": "Med/Surg",
          "covidstatus": "COVID+",
          "patientcount": 20
         },
         {
          "reportdate": "2020-03-25T00:00:00",
          "hospital": "All SF Hospitals",
          "dphcategory": "Med/Surg",
          "covidstatus": "COVID+",
          "patientcount": 22
         },
         {
          "reportdate": "2020-03-26T00:00:00",
          "hospital": "All SF Hospitals",
          "dphcategory": "Med/Surg",
          "covidstatus": "COVID+",
          "patientcount": 19
         },
         {
          "reportdate": "2020-03-27T00:00:00",
          "hospital": "All SF Hospitals",
          "dphcategory": "Med/Surg",
          "covidstatus": "COVID+",
          "patientcount": 28
         },
         {
          "reportdate": "2020-03-28T00:00:00",
          "hospital": "All SF Hospitals",
          "dphcategory": "Med/Surg",
          "covidstatus": "COVID+",
          "patientcount": 27
         },
         {
          "reportdate": "2020-03-29T00:00:00",
          "hospital": "All SF Hospitals",
          "dphcategory": "Med/Surg",
          "covidstatus": "COVID+",
          "patientcount": 34
         },
         {
          "reportdate": "2020-03-30T00:00:00",
          "hospital": "All SF Hospitals",
          "dphcategory": "Med/Surg",
          "covidstatus": "COVID+",
          "patientcount": 20
         },
         {
          "reportdate": "2020-03-31T00:00:00",
          "hospital": "All SF Hospitals",
          "dphcategory": "Med/Surg",
          "covidstatus": "COVID+",
          "patientcount": 36
         },
         {
          "reportdate": "2020-04-01T00:00:00",
          "hospital": "All SF Hospitals",
          "dphcategory": "Med/Surg",
          "covidstatus": "COVID+",
          "patientcount": 44
         },
         {
          "reportdate": "2020-04-02T00:00:00",
          "hospital": "All SF Hospitals",
          "dphcategory": "Med/Surg",
          "covidstatus": "COVID+",
          "patientcount": 40
         },
         {
          "reportdate": "2020-04-03T00:00:00",
          "hospital": "All SF Hospitals",
          "dphcategory": "Med/Surg",
          "covidstatus": "COVID+",
          "patientcount": 33
         },
         {
          "reportdate": "2020-04-04T00:00:00",
          "hospital": "All SF Hospitals",
          "dphcategory": "Med/Surg",
          "covidstatus": "COVID+",
          "patientcount": 30
         },
         {
          "reportdate": "2020-04-05T00:00:00",
          "hospital": "All SF Hospitals",
          "dphcategory": "Med/Surg",
          "covidstatus": "COVID+",
          "patientcount": 48
         },
         {
          "reportdate": "2020-04-06T00:00:00",
          "hospital": "All SF Hospitals",
          "dphcategory": "Med/Surg",
          "covidstatus": "COVID+",
          "patientcount": 57
         },
         {
          "reportdate": "2020-04-07T00:00:00",
          "hospital": "All SF Hospitals",
          "dphcategory": "Med/Surg",
          "covidstatus": "COVID+",
          "patientcount": 54
         },
         {
          "reportdate": "2020-04-08T00:00:00",
          "hospital": "All SF Hospitals",
          "dphcategory": "Med/Surg",
          "covidstatus": "COVID+",
          "patientcount": 56
         },
         {
          "reportdate": "2020-04-09T00:00:00",
          "hospital": "All SF Hospitals",
          "dphcategory": "Med/Surg",
          "covidstatus": "COVID+",
          "patientcount": 54
         },
         {
          "reportdate": "2020-04-10T00:00:00",
          "hospital": "All SF Hospitals",
          "dphcategory": "Med/Surg",
          "covidstatus": "COVID+",
          "patientcount": 54
         },
         {
          "reportdate": "2020-04-11T00:00:00",
          "hospital": "All SF Hospitals",
          "dphcategory": "Med/Surg",
          "covidstatus": "COVID+",
          "patientcount": 63
         },
         {
          "reportdate": "2020-04-12T00:00:00",
          "hospital": "All SF Hospitals",
          "dphcategory": "Med/Surg",
          "covidstatus": "COVID+",
          "patientcount": 59
         },
         {
          "reportdate": "2020-04-13T00:00:00",
          "hospital": "All SF Hospitals",
          "dphcategory": "Med/Surg",
          "covidstatus": "COVID+",
          "patientcount": 60
         },
         {
          "reportdate": "2020-04-14T00:00:00",
          "hospital": "All SF Hospitals",
          "dphcategory": "Med/Surg",
          "covidstatus": "COVID+",
          "patientcount": 63
         },
         {
          "reportdate": "2020-04-15T00:00:00",
          "hospital": "All SF Hospitals",
          "dphcategory": "Med/Surg",
          "covidstatus": "COVID+",
          "patientcount": 61
         },
         {
          "reportdate": "2020-04-16T00:00:00",
          "hospital": "All SF Hospitals",
          "dphcategory": "Med/Surg",
          "covidstatus": "COVID+",
          "patientcount": 56
         },
         {
          "reportdate": "2020-04-17T00:00:00",
          "hospital": "All SF Hospitals",
          "dphcategory": "Med/Surg",
          "covidstatus": "COVID+",
          "patientcount": 50
         },
         {
          "reportdate": "2020-04-18T00:00:00",
          "hospital": "All SF Hospitals",
          "dphcategory": "Med/Surg",
          "covidstatus": "COVID+",
          "patientcount": 51
         },
         {
          "reportdate": "2020-04-19T00:00:00",
          "hospital": "All SF Hospitals",
          "dphcategory": "Med/Surg",
          "covidstatus": "COVID+",
          "patientcount": 57
         },
         {
          "reportdate": "2020-04-20T00:00:00",
          "hospital": "All SF Hospitals",
          "dphcategory": "Med/Surg",
          "covidstatus": "COVID+",
          "patientcount": 56
         },
         {
          "reportdate": "2020-04-21T00:00:00",
          "hospital": "All SF Hospitals",
          "dphcategory": "Med/Surg",
          "covidstatus": "COVID+",
          "patientcount": 53
         },
         {
          "reportdate": "2020-04-22T00:00:00",
          "hospital": "All SF Hospitals",
          "dphcategory": "Med/Surg",
          "covidstatus": "COVID+",
          "patientcount": 49
         },
         {
          "reportdate": "2020-04-23T00:00:00",
          "hospital": "All SF Hospitals",
          "dphcategory": "Med/Surg",
          "covidstatus": "COVID+",
          "patientcount": 47
         },
         {
          "reportdate": "2020-04-24T00:00:00",
          "hospital": "All SF Hospitals",
          "dphcategory": "Med/Surg",
          "covidstatus": "COVID+",
          "patientcount": 48
         },
         {
          "reportdate": "2020-04-25T00:00:00",
          "hospital": "All SF Hospitals",
          "dphcategory": "Med/Surg",
          "covidstatus": "COVID+",
          "patientcount": 54
         },
         {
          "reportdate": "2020-04-26T00:00:00",
          "hospital": "All SF Hospitals",
          "dphcategory": "Med/Surg",
          "covidstatus": "COVID+",
          "patientcount": 58
         },
         {
          "reportdate": "2020-04-27T00:00:00",
          "hospital": "All SF Hospitals",
          "dphcategory": "Med/Surg",
          "covidstatus": "COVID+",
          "patientcount": 61
         },
         {
          "reportdate": "2020-04-28T00:00:00",
          "hospital": "All SF Hospitals",
          "dphcategory": "Med/Surg",
          "covidstatus": "COVID+",
          "patientcount": 57
         },
         {
          "reportdate": "2020-04-29T00:00:00",
          "hospital": "All SF Hospitals",
          "dphcategory": "Med/Surg",
          "covidstatus": "COVID+",
          "patientcount": 58
         },
         {
          "reportdate": "2020-04-30T00:00:00",
          "hospital": "All SF Hospitals",
          "dphcategory": "Med/Surg",
          "covidstatus": "COVID+",
          "patientcount": 58
         },
         {
          "reportdate": "2020-05-01T00:00:00",
          "hospital": "All SF Hospitals",
          "dphcategory": "Med/Surg",
          "covidstatus": "COVID+",
          "patientcount": 58
         },
         {
          "reportdate": "2020-05-02T00:00:00",
          "hospital": "All SF Hospitals",
          "dphcategory": "Med/Surg",
          "covidstatus": "COVID+",
          "patientcount": 60
         },
         {
          "reportdate": "2020-05-03T00:00:00",
          "hospital": "All SF Hospitals",
          "dphcategory": "Med/Surg",
          "covidstatus": "COVID+",
          "patientcount": 60
         },
         {
          "reportdate": "2020-05-04T00:00:00",
          "hospital": "All SF Hospitals",
          "dphcategory": "Med/Surg",
          "covidstatus": "COVID+",
          "patientcount": 57
         },
         {
          "reportdate": "2020-05-05T00:00:00",
          "hospital": "All SF Hospitals",
          "dphcategory": "Med/Surg",
          "covidstatus": "COVID+",
          "patientcount": 54
         },
         {
          "reportdate": "2020-05-06T00:00:00",
          "hospital": "All SF Hospitals",
          "dphcategory": "Med/Surg",
          "covidstatus": "COVID+",
          "patientcount": 48
         },
         {
          "reportdate": "2020-05-07T00:00:00",
          "hospital": "All SF Hospitals",
          "dphcategory": "Med/Surg",
          "covidstatus": "COVID+",
          "patientcount": 47
         },
         {
          "reportdate": "2020-05-08T00:00:00",
          "hospital": "All SF Hospitals",
          "dphcategory": "Med/Surg",
          "covidstatus": "COVID+",
          "patientcount": 43
         },
         {
          "reportdate": "2020-05-09T00:00:00",
          "hospital": "All SF Hospitals",
          "dphcategory": "Med/Surg",
          "covidstatus": "COVID+",
          "patientcount": 47
         },
         {
          "reportdate": "2020-05-10T00:00:00",
          "hospital": "All SF Hospitals",
          "dphcategory": "Med/Surg",
          "covidstatus": "COVID+",
          "patientcount": 47
         },
         {
          "reportdate": "2020-05-11T00:00:00",
          "hospital": "All SF Hospitals",
          "dphcategory": "Med/Surg",
          "covidstatus": "COVID+",
          "patientcount": 47
         },
         {
          "reportdate": "2020-05-12T00:00:00",
          "hospital": "All SF Hospitals",
          "dphcategory": "Med/Surg",
          "covidstatus": "COVID+",
          "patientcount": 40
         },
         {
          "reportdate": "2020-05-13T00:00:00",
          "hospital": "All SF Hospitals",
          "dphcategory": "Med/Surg",
          "covidstatus": "COVID+",
          "patientcount": 42
         },
         {
          "reportdate": "2020-05-14T00:00:00",
          "hospital": "All SF Hospitals",
          "dphcategory": "Med/Surg",
          "covidstatus": "COVID+",
          "patientcount": 43
         },
         {
          "reportdate": "2020-05-15T00:00:00",
          "hospital": "All SF Hospitals",
          "dphcategory": "Med/Surg",
          "covidstatus": "COVID+",
          "patientcount": 31
         },
         {
          "reportdate": "2020-05-16T00:00:00",
          "hospital": "All SF Hospitals",
          "dphcategory": "Med/Surg",
          "covidstatus": "COVID+",
          "patientcount": 34
         },
         {
          "reportdate": "2020-05-17T00:00:00",
          "hospital": "All SF Hospitals",
          "dphcategory": "Med/Surg",
          "covidstatus": "COVID+",
          "patientcount": 43
         },
         {
          "reportdate": "2020-05-18T00:00:00",
          "hospital": "All SF Hospitals",
          "dphcategory": "Med/Surg",
          "covidstatus": "COVID+",
          "patientcount": 41
         },
         {
          "reportdate": "2020-05-19T00:00:00",
          "hospital": "All SF Hospitals",
          "dphcategory": "Med/Surg",
          "covidstatus": "COVID+",
          "patientcount": 39
         },
         {
          "reportdate": "2020-05-20T00:00:00",
          "hospital": "All SF Hospitals",
          "dphcategory": "Med/Surg",
          "covidstatus": "COVID+",
          "patientcount": 38
         },
         {
          "reportdate": "2020-05-21T00:00:00",
          "hospital": "All SF Hospitals",
          "dphcategory": "Med/Surg",
          "covidstatus": "COVID+",
          "patientcount": 37
         },
         {
          "reportdate": "2020-05-22T00:00:00",
          "hospital": "All SF Hospitals",
          "dphcategory": "Med/Surg",
          "covidstatus": "COVID+",
          "patientcount": 39
         },
         {
          "reportdate": "2020-05-23T00:00:00",
          "hospital": "All SF Hospitals",
          "dphcategory": "Med/Surg",
          "covidstatus": "COVID+",
          "patientcount": 40
         },
         {
          "reportdate": "2020-05-24T00:00:00",
          "hospital": "All SF Hospitals",
          "dphcategory": "Med/Surg",
          "covidstatus": "COVID+",
          "patientcount": 31
         },
         {
          "reportdate": "2020-05-25T00:00:00",
          "hospital": "All SF Hospitals",
          "dphcategory": "Med/Surg",
          "covidstatus": "COVID+",
          "patientcount": 30
         },
         {
          "reportdate": "2020-05-26T00:00:00",
          "hospital": "All SF Hospitals",
          "dphcategory": "Med/Surg",
          "covidstatus": "COVID+",
          "patientcount": 37
         },
         {
          "reportdate": "2020-05-27T00:00:00",
          "hospital": "All SF Hospitals",
          "dphcategory": "Med/Surg",
          "covidstatus": "COVID+",
          "patientcount": 34
         },
         {
          "reportdate": "2020-05-28T00:00:00",
          "hospital": "All SF Hospitals",
          "dphcategory": "Med/Surg",
          "covidstatus": "COVID+",
          "patientcount": 36
         },
         {
          "reportdate": "2020-05-29T00:00:00",
          "hospital": "All SF Hospitals",
          "dphcategory": "Med/Surg",
          "covidstatus": "COVID+",
          "patientcount": 32
         },
         {
          "reportdate": "2020-05-30T00:00:00",
          "hospital": "All SF Hospitals",
          "dphcategory": "Med/Surg",
          "covidstatus": "COVID+",
          "patientcount": 30
         },
         {
          "reportdate": "2020-05-31T00:00:00",
          "hospital": "All SF Hospitals",
          "dphcategory": "Med/Surg",
          "covidstatus": "COVID+",
          "patientcount": 32
         },
         {
          "reportdate": "2020-06-01T00:00:00",
          "hospital": "All SF Hospitals",
          "dphcategory": "Med/Surg",
          "covidstatus": "COVID+",
          "patientcount": 24
         },
         {
          "reportdate": "2020-06-02T00:00:00",
          "hospital": "All SF Hospitals",
          "dphcategory": "Med/Surg",
          "covidstatus": "COVID+",
          "patientcount": 20
         },
         {
          "reportdate": "2020-06-03T00:00:00",
          "hospital": "All SF Hospitals",
          "dphcategory": "Med/Surg",
          "covidstatus": "COVID+",
          "patientcount": 27
         },
         {
          "reportdate": "2020-06-04T00:00:00",
          "hospital": "All SF Hospitals",
          "dphcategory": "Med/Surg",
          "covidstatus": "COVID+",
          "patientcount": 28
         },
         {
          "reportdate": "2020-06-05T00:00:00",
          "hospital": "All SF Hospitals",
          "dphcategory": "Med/Surg",
          "covidstatus": "COVID+",
          "patientcount": 23
         },
         {
          "reportdate": "2020-06-06T00:00:00",
          "hospital": "All SF Hospitals",
          "dphcategory": "Med/Surg",
          "covidstatus": "COVID+",
          "patientcount": 22
         },
         {
          "reportdate": "2020-06-07T00:00:00",
          "hospital": "All SF Hospitals",
          "dphcategory": "Med/Surg",
          "covidstatus": "COVID+",
          "patientcount": 22
         },
         {
          "reportdate": "2020-06-08T00:00:00",
          "hospital": "All SF Hospitals",
          "dphcategory": "Med/Surg",
          "covidstatus": "COVID+",
          "patientcount": 24
         },
         {
          "reportdate": "2020-06-09T00:00:00",
          "hospital": "All SF Hospitals",
          "dphcategory": "Med/Surg",
          "covidstatus": "COVID+",
          "patientcount": 25
         },
         {
          "reportdate": "2020-03-23T00:00:00",
          "hospital": "All SF Hospitals",
          "dphcategory": "ICU",
          "covidstatus": "COVID+",
          "patientcount": 14
         },
         {
          "reportdate": "2020-03-24T00:00:00",
          "hospital": "All SF Hospitals",
          "dphcategory": "ICU",
          "covidstatus": "COVID+",
          "patientcount": 15
         },
         {
          "reportdate": "2020-03-25T00:00:00",
          "hospital": "All SF Hospitals",
          "dphcategory": "ICU",
          "covidstatus": "COVID+",
          "patientcount": 18
         },
         {
          "reportdate": "2020-03-26T00:00:00",
          "hospital": "All SF Hospitals",
          "dphcategory": "ICU",
          "covidstatus": "COVID+",
          "patientcount": 22
         },
         {
          "reportdate": "2020-03-27T00:00:00",
          "hospital": "All SF Hospitals",
          "dphcategory": "ICU",
          "covidstatus": "COVID+",
          "patientcount": 24
         },
         {
          "reportdate": "2020-03-28T00:00:00",
          "hospital": "All SF Hospitals",
          "dphcategory": "ICU",
          "covidstatus": "COVID+",
          "patientcount": 26
         },
         {
          "reportdate": "2020-03-29T00:00:00",
          "hospital": "All SF Hospitals",
          "dphcategory": "ICU",
          "covidstatus": "COVID+",
          "patientcount": 24
         },
         {
          "reportdate": "2020-03-30T00:00:00",
          "hospital": "All SF Hospitals",
          "dphcategory": "ICU",
          "covidstatus": "COVID+",
          "patientcount": 9
         },
         {
          "reportdate": "2020-03-31T00:00:00",
          "hospital": "All SF Hospitals",
          "dphcategory": "ICU",
          "covidstatus": "COVID+",
          "patientcount": 21
         },
         {
          "reportdate": "2020-04-01T00:00:00",
          "hospital": "All SF Hospitals",
          "dphcategory": "ICU",
          "covidstatus": "COVID+",
          "patientcount": 35
         },
         {
          "reportdate": "2020-04-02T00:00:00",
          "hospital": "All SF Hospitals",
          "dphcategory": "ICU",
          "covidstatus": "COVID+",
          "patientcount": 36
         },
         {
          "reportdate": "2020-04-03T00:00:00",
          "hospital": "All SF Hospitals",
          "dphcategory": "ICU",
          "covidstatus": "COVID+",
          "patientcount": 36
         },
         {
          "reportdate": "2020-04-04T00:00:00",
          "hospital": "All SF Hospitals",
          "dphcategory": "ICU",
          "covidstatus": "COVID+",
          "patientcount": 38
         },
         {
          "reportdate": "2020-04-05T00:00:00",
          "hospital": "All SF Hospitals",
          "dphcategory": "ICU",
          "covidstatus": "COVID+",
          "patientcount": 34
         },
         {
          "reportdate": "2020-04-06T00:00:00",
          "hospital": "All SF Hospitals",
          "dphcategory": "ICU",
          "covidstatus": "COVID+",
          "patientcount": 36
         },
         {
          "reportdate": "2020-04-07T00:00:00",
          "hospital": "All SF Hospitals",
          "dphcategory": "ICU",
          "covidstatus": "COVID+",
          "patientcount": 37
         },
         {
          "reportdate": "2020-04-08T00:00:00",
          "hospital": "All SF Hospitals",
          "dphcategory": "ICU",
          "covidstatus": "COVID+",
          "patientcount": 33
         },
         {
          "reportdate": "2020-04-09T00:00:00",
          "hospital": "All SF Hospitals",
          "dphcategory": "ICU",
          "covidstatus": "COVID+",
          "patientcount": 32
         },
         {
          "reportdate": "2020-04-10T00:00:00",
          "hospital": "All SF Hospitals",
          "dphcategory": "ICU",
          "covidstatus": "COVID+",
          "patientcount": 29
         },
         {
          "reportdate": "2020-04-11T00:00:00",
          "hospital": "All SF Hospitals",
          "dphcategory": "ICU",
          "covidstatus": "COVID+",
          "patientcount": 31
         },
         {
          "reportdate": "2020-04-12T00:00:00",
          "hospital": "All SF Hospitals",
          "dphcategory": "ICU",
          "covidstatus": "COVID+",
          "patientcount": 31
         },
         {
          "reportdate": "2020-04-13T00:00:00",
          "hospital": "All SF Hospitals",
          "dphcategory": "ICU",
          "covidstatus": "COVID+",
          "patientcount": 28
         },
         {
          "reportdate": "2020-04-14T00:00:00",
          "hospital": "All SF Hospitals",
          "dphcategory": "ICU",
          "covidstatus": "COVID+",
          "patientcount": 25
         },
         {
          "reportdate": "2020-04-15T00:00:00",
          "hospital": "All SF Hospitals",
          "dphcategory": "ICU",
          "covidstatus": "COVID+",
          "patientcount": 28
         },
         {
          "reportdate": "2020-04-16T00:00:00",
          "hospital": "All SF Hospitals",
          "dphcategory": "ICU",
          "covidstatus": "COVID+",
          "patientcount": 28
         },
         {
          "reportdate": "2020-04-17T00:00:00",
          "hospital": "All SF Hospitals",
          "dphcategory": "ICU",
          "covidstatus": "COVID+",
          "patientcount": 27
         },
         {
          "reportdate": "2020-04-18T00:00:00",
          "hospital": "All SF Hospitals",
          "dphcategory": "ICU",
          "covidstatus": "COVID+",
          "patientcount": 27
         },
         {
          "reportdate": "2020-04-19T00:00:00",
          "hospital": "All SF Hospitals",
          "dphcategory": "ICU",
          "covidstatus": "COVID+",
          "patientcount": 27
         },
         {
          "reportdate": "2020-04-20T00:00:00",
          "hospital": "All SF Hospitals",
          "dphcategory": "ICU",
          "covidstatus": "COVID+",
          "patientcount": 25
         },
         {
          "reportdate": "2020-04-21T00:00:00",
          "hospital": "All SF Hospitals",
          "dphcategory": "ICU",
          "covidstatus": "COVID+",
          "patientcount": 27
         },
         {
          "reportdate": "2020-04-22T00:00:00",
          "hospital": "All SF Hospitals",
          "dphcategory": "ICU",
          "covidstatus": "COVID+",
          "patientcount": 33
         },
         {
          "reportdate": "2020-04-23T00:00:00",
          "hospital": "All SF Hospitals",
          "dphcategory": "ICU",
          "covidstatus": "COVID+",
          "patientcount": 30
         },
         {
          "reportdate": "2020-04-24T00:00:00",
          "hospital": "All SF Hospitals",
          "dphcategory": "ICU",
          "covidstatus": "COVID+",
          "patientcount": 30
         },
         {
          "reportdate": "2020-04-25T00:00:00",
          "hospital": "All SF Hospitals",
          "dphcategory": "ICU",
          "covidstatus": "COVID+",
          "patientcount": 31
         },
         {
          "reportdate": "2020-04-26T00:00:00",
          "hospital": "All SF Hospitals",
          "dphcategory": "ICU",
          "covidstatus": "COVID+",
          "patientcount": 29
         },
         {
          "reportdate": "2020-04-27T00:00:00",
          "hospital": "All SF Hospitals",
          "dphcategory": "ICU",
          "covidstatus": "COVID+",
          "patientcount": 28
         },
         {
          "reportdate": "2020-04-28T00:00:00",
          "hospital": "All SF Hospitals",
          "dphcategory": "ICU",
          "covidstatus": "COVID+",
          "patientcount": 27
         },
         {
          "reportdate": "2020-04-29T00:00:00",
          "hospital": "All SF Hospitals",
          "dphcategory": "ICU",
          "covidstatus": "COVID+",
          "patientcount": 32
         },
         {
          "reportdate": "2020-04-30T00:00:00",
          "hospital": "All SF Hospitals",
          "dphcategory": "ICU",
          "covidstatus": "COVID+",
          "patientcount": 32
         },
         {
          "reportdate": "2020-05-01T00:00:00",
          "hospital": "All SF Hospitals",
          "dphcategory": "ICU",
          "covidstatus": "COVID+",
          "patientcount": 29
         },
         {
          "reportdate": "2020-05-02T00:00:00",
          "hospital": "All SF Hospitals",
          "dphcategory": "ICU",
          "covidstatus": "COVID+",
          "patientcount": 30
         },
         {
          "reportdate": "2020-05-03T00:00:00",
          "hospital": "All SF Hospitals",
          "dphcategory": "ICU",
          "covidstatus": "COVID+",
          "patientcount": 26
         },
         {
          "reportdate": "2020-05-04T00:00:00",
          "hospital": "All SF Hospitals",
          "dphcategory": "ICU",
          "covidstatus": "COVID+",
          "patientcount": 27
         },
         {
          "reportdate": "2020-05-05T00:00:00",
          "hospital": "All SF Hospitals",
          "dphcategory": "ICU",
          "covidstatus": "COVID+",
          "patientcount": 26
         },
         {
          "reportdate": "2020-05-06T00:00:00",
          "hospital": "All SF Hospitals",
          "dphcategory": "ICU",
          "covidstatus": "COVID+",
          "patientcount": 30
         },
         {
          "reportdate": "2020-05-07T00:00:00",
          "hospital": "All SF Hospitals",
          "dphcategory": "ICU",
          "covidstatus": "COVID+",
          "patientcount": 28
         },
         {
          "reportdate": "2020-05-08T00:00:00",
          "hospital": "All SF Hospitals",
          "dphcategory": "ICU",
          "covidstatus": "COVID+",
          "patientcount": 27
         },
         {
          "reportdate": "2020-05-09T00:00:00",
          "hospital": "All SF Hospitals",
          "dphcategory": "ICU",
          "covidstatus": "COVID+",
          "patientcount": 24
         },
         {
          "reportdate": "2020-05-10T00:00:00",
          "hospital": "All SF Hospitals",
          "dphcategory": "ICU",
          "covidstatus": "COVID+",
          "patientcount": 23
         },
         {
          "reportdate": "2020-05-11T00:00:00",
          "hospital": "All SF Hospitals",
          "dphcategory": "ICU",
          "covidstatus": "COVID+",
          "patientcount": 23
         },
         {
          "reportdate": "2020-05-12T00:00:00",
          "hospital": "All SF Hospitals",
          "dphcategory": "ICU",
          "covidstatus": "COVID+",
          "patientcount": 25
         },
         {
          "reportdate": "2020-05-13T00:00:00",
          "hospital": "All SF Hospitals",
          "dphcategory": "ICU",
          "covidstatus": "COVID+",
          "patientcount": 22
         },
         {
          "reportdate": "2020-05-14T00:00:00",
          "hospital": "All SF Hospitals",
          "dphcategory": "ICU",
          "covidstatus": "COVID+",
          "patientcount": 20
         },
         {
          "reportdate": "2020-05-15T00:00:00",
          "hospital": "All SF Hospitals",
          "dphcategory": "ICU",
          "covidstatus": "COVID+",
          "patientcount": 21
         },
         {
          "reportdate": "2020-05-16T00:00:00",
          "hospital": "All SF Hospitals",
          "dphcategory": "ICU",
          "covidstatus": "COVID+",
          "patientcount": 19
         },
         {
          "reportdate": "2020-05-17T00:00:00",
          "hospital": "All SF Hospitals",
          "dphcategory": "ICU",
          "covidstatus": "COVID+",
          "patientcount": 19
         },
         {
          "reportdate": "2020-05-18T00:00:00",
          "hospital": "All SF Hospitals",
          "dphcategory": "ICU",
          "covidstatus": "COVID+",
          "patientcount": 20
         },
         {
          "reportdate": "2020-05-19T00:00:00",
          "hospital": "All SF Hospitals",
          "dphcategory": "ICU",
          "covidstatus": "COVID+",
          "patientcount": 22
         },
         {
          "reportdate": "2020-05-20T00:00:00",
          "hospital": "All SF Hospitals",
          "dphcategory": "ICU",
          "covidstatus": "COVID+",
          "patientcount": 18
         },
         {
          "reportdate": "2020-05-21T00:00:00",
          "hospital": "All SF Hospitals",
          "dphcategory": "ICU",
          "covidstatus": "COVID+",
          "patientcount": 20
         },
         {
          "reportdate": "2020-05-22T00:00:00",
          "hospital": "All SF Hospitals",
          "dphcategory": "ICU",
          "covidstatus": "COVID+",
          "patientcount": 19
         },
         {
          "reportdate": "2020-05-23T00:00:00",
          "hospital": "All SF Hospitals",
          "dphcategory": "ICU",
          "covidstatus": "COVID+",
          "patientcount": 21
         },
         {
          "reportdate": "2020-05-24T00:00:00",
          "hospital": "All SF Hospitals",
          "dphcategory": "ICU",
          "covidstatus": "COVID+",
          "patientcount": 21
         },
         {
          "reportdate": "2020-05-25T00:00:00",
          "hospital": "All SF Hospitals",
          "dphcategory": "ICU",
          "covidstatus": "COVID+",
          "patientcount": 21
         },
         {
          "reportdate": "2020-05-26T00:00:00",
          "hospital": "All SF Hospitals",
          "dphcategory": "ICU",
          "covidstatus": "COVID+",
          "patientcount": 20
         },
         {
          "reportdate": "2020-05-27T00:00:00",
          "hospital": "All SF Hospitals",
          "dphcategory": "ICU",
          "covidstatus": "COVID+",
          "patientcount": 21
         },
         {
          "reportdate": "2020-05-28T00:00:00",
          "hospital": "All SF Hospitals",
          "dphcategory": "ICU",
          "covidstatus": "COVID+",
          "patientcount": 20
         },
         {
          "reportdate": "2020-05-29T00:00:00",
          "hospital": "All SF Hospitals",
          "dphcategory": "ICU",
          "covidstatus": "COVID+",
          "patientcount": 20
         },
         {
          "reportdate": "2020-05-30T00:00:00",
          "hospital": "All SF Hospitals",
          "dphcategory": "ICU",
          "covidstatus": "COVID+",
          "patientcount": 22
         },
         {
          "reportdate": "2020-05-31T00:00:00",
          "hospital": "All SF Hospitals",
          "dphcategory": "ICU",
          "covidstatus": "COVID+",
          "patientcount": 19
         },
         {
          "reportdate": "2020-06-01T00:00:00",
          "hospital": "All SF Hospitals",
          "dphcategory": "ICU",
          "covidstatus": "COVID+",
          "patientcount": 19
         },
         {
          "reportdate": "2020-06-02T00:00:00",
          "hospital": "All SF Hospitals",
          "dphcategory": "ICU",
          "covidstatus": "COVID+",
          "patientcount": 19
         },
         {
          "reportdate": "2020-06-03T00:00:00",
          "hospital": "All SF Hospitals",
          "dphcategory": "ICU",
          "covidstatus": "COVID+",
          "patientcount": 16
         },
         {
          "reportdate": "2020-06-04T00:00:00",
          "hospital": "All SF Hospitals",
          "dphcategory": "ICU",
          "covidstatus": "COVID+",
          "patientcount": 15
         },
         {
          "reportdate": "2020-06-05T00:00:00",
          "hospital": "All SF Hospitals",
          "dphcategory": "ICU",
          "covidstatus": "COVID+",
          "patientcount": 15
         },
         {
          "reportdate": "2020-06-06T00:00:00",
          "hospital": "All SF Hospitals",
          "dphcategory": "ICU",
          "covidstatus": "COVID+",
          "patientcount": 14
         },
         {
          "reportdate": "2020-06-07T00:00:00",
          "hospital": "All SF Hospitals",
          "dphcategory": "ICU",
          "covidstatus": "COVID+",
          "patientcount": 14
         },
         {
          "reportdate": "2020-06-08T00:00:00",
          "hospital": "All SF Hospitals",
          "dphcategory": "ICU",
          "covidstatus": "COVID+",
          "patientcount": 14
         },
         {
          "reportdate": "2020-06-09T00:00:00",
          "hospital": "All SF Hospitals",
          "dphcategory": "ICU",
          "covidstatus": "COVID+",
          "patientcount": 13
         },
         {
          "reportdate": "2020-03-23T00:00:00",
          "hospital": "All SF Hospitals",
          "dphcategory": "Med/Surg",
          "covidstatus": "PUI",
          "patientcount": 101
         },
         {
          "reportdate": "2020-03-24T00:00:00",
          "hospital": "All SF Hospitals",
          "dphcategory": "Med/Surg",
          "covidstatus": "PUI",
          "patientcount": 96
         },
         {
          "reportdate": "2020-03-25T00:00:00",
          "hospital": "All SF Hospitals",
          "dphcategory": "Med/Surg",
          "covidstatus": "PUI",
          "patientcount": 62
         },
         {
          "reportdate": "2020-03-26T00:00:00",
          "hospital": "All SF Hospitals",
          "dphcategory": "Med/Surg",
          "covidstatus": "PUI",
          "patientcount": 67
         },
         {
          "reportdate": "2020-03-27T00:00:00",
          "hospital": "All SF Hospitals",
          "dphcategory": "Med/Surg",
          "covidstatus": "PUI",
          "patientcount": 69
         },
         {
          "reportdate": "2020-03-28T00:00:00",
          "hospital": "All SF Hospitals",
          "dphcategory": "Med/Surg",
          "covidstatus": "PUI",
          "patientcount": 69
         },
         {
          "reportdate": "2020-03-29T00:00:00",
          "hospital": "All SF Hospitals",
          "dphcategory": "Med/Surg",
          "covidstatus": "PUI",
          "patientcount": 61
         },
         {
          "reportdate": "2020-03-30T00:00:00",
          "hospital": "All SF Hospitals",
          "dphcategory": "Med/Surg",
          "covidstatus": "PUI",
          "patientcount": 26
         },
         {
          "reportdate": "2020-03-31T00:00:00",
          "hospital": "All SF Hospitals",
          "dphcategory": "Med/Surg",
          "covidstatus": "PUI",
          "patientcount": 35
         },
         {
          "reportdate": "2020-04-01T00:00:00",
          "hospital": "All SF Hospitals",
          "dphcategory": "Med/Surg",
          "covidstatus": "PUI",
          "patientcount": 68
         },
         {
          "reportdate": "2020-04-02T00:00:00",
          "hospital": "All SF Hospitals",
          "dphcategory": "Med/Surg",
          "covidstatus": "PUI",
          "patientcount": 46
         },
         {
          "reportdate": "2020-04-03T00:00:00",
          "hospital": "All SF Hospitals",
          "dphcategory": "Med/Surg",
          "covidstatus": "PUI",
          "patientcount": 29
         },
         {
          "reportdate": "2020-04-04T00:00:00",
          "hospital": "All SF Hospitals",
          "dphcategory": "Med/Surg",
          "covidstatus": "PUI",
          "patientcount": 42
         },
         {
          "reportdate": "2020-04-05T00:00:00",
          "hospital": "All SF Hospitals",
          "dphcategory": "Med/Surg",
          "covidstatus": "PUI",
          "patientcount": 111
         },
         {
          "reportdate": "2020-04-06T00:00:00",
          "hospital": "All SF Hospitals",
          "dphcategory": "Med/Surg",
          "covidstatus": "PUI",
          "patientcount": 109
         },
         {
          "reportdate": "2020-04-07T00:00:00",
          "hospital": "All SF Hospitals",
          "dphcategory": "Med/Surg",
          "covidstatus": "PUI",
          "patientcount": 48
         },
         {
          "reportdate": "2020-04-08T00:00:00",
          "hospital": "All SF Hospitals",
          "dphcategory": "Med/Surg",
          "covidstatus": "PUI",
          "patientcount": 40
         },
         {
          "reportdate": "2020-04-09T00:00:00",
          "hospital": "All SF Hospitals",
          "dphcategory": "Med/Surg",
          "covidstatus": "PUI",
          "patientcount": 28
         },
         {
          "reportdate": "2020-04-10T00:00:00",
          "hospital": "All SF Hospitals",
          "dphcategory": "Med/Surg",
          "covidstatus": "PUI",
          "patientcount": 26
         },
         {
          "reportdate": "2020-04-11T00:00:00",
          "hospital": "All SF Hospitals",
          "dphcategory": "Med/Surg",
          "covidstatus": "PUI",
          "patientcount": 28
         },
         {
          "reportdate": "2020-04-12T00:00:00",
          "hospital": "All SF Hospitals",
          "dphcategory": "Med/Surg",
          "covidstatus": "PUI",
          "patientcount": 33
         },
         {
          "reportdate": "2020-04-13T00:00:00",
          "hospital": "All SF Hospitals",
          "dphcategory": "Med/Surg",
          "covidstatus": "PUI",
          "patientcount": 38
         },
         {
          "reportdate": "2020-04-14T00:00:00",
          "hospital": "All SF Hospitals",
          "dphcategory": "Med/Surg",
          "covidstatus": "PUI",
          "patientcount": 79
         },
         {
          "reportdate": "2020-04-15T00:00:00",
          "hospital": "All SF Hospitals",
          "dphcategory": "Med/Surg",
          "covidstatus": "PUI",
          "patientcount": 29
         },
         {
          "reportdate": "2020-04-16T00:00:00",
          "hospital": "All SF Hospitals",
          "dphcategory": "Med/Surg",
          "covidstatus": "PUI",
          "patientcount": 26
         },
         {
          "reportdate": "2020-04-17T00:00:00",
          "hospital": "All SF Hospitals",
          "dphcategory": "Med/Surg",
          "covidstatus": "PUI",
          "patientcount": 19
         },
         {
          "reportdate": "2020-04-18T00:00:00",
          "hospital": "All SF Hospitals",
          "dphcategory": "Med/Surg",
          "covidstatus": "PUI",
          "patientcount": 27
         },
         {
          "reportdate": "2020-04-19T00:00:00",
          "hospital": "All SF Hospitals",
          "dphcategory": "Med/Surg",
          "covidstatus": "PUI",
          "patientcount": 25
         },
         {
          "reportdate": "2020-04-20T00:00:00",
          "hospital": "All SF Hospitals",
          "dphcategory": "Med/Surg",
          "covidstatus": "PUI",
          "patientcount": 41
         },
         {
          "reportdate": "2020-04-21T00:00:00",
          "hospital": "All SF Hospitals",
          "dphcategory": "Med/Surg",
          "covidstatus": "PUI",
          "patientcount": 24
         },
         {
          "reportdate": "2020-04-22T00:00:00",
          "hospital": "All SF Hospitals",
          "dphcategory": "Med/Surg",
          "covidstatus": "PUI",
          "patientcount": 22
         },
         {
          "reportdate": "2020-04-23T00:00:00",
          "hospital": "All SF Hospitals",
          "dphcategory": "Med/Surg",
          "covidstatus": "PUI",
          "patientcount": 20
         },
         {
          "reportdate": "2020-04-24T00:00:00",
          "hospital": "All SF Hospitals",
          "dphcategory": "Med/Surg",
          "covidstatus": "PUI",
          "patientcount": 19
         },
         {
          "reportdate": "2020-04-25T00:00:00",
          "hospital": "All SF Hospitals",
          "dphcategory": "Med/Surg",
          "covidstatus": "PUI",
          "patientcount": 38
         },
         {
          "reportdate": "2020-04-26T00:00:00",
          "hospital": "All SF Hospitals",
          "dphcategory": "Med/Surg",
          "covidstatus": "PUI",
          "patientcount": 81
         },
         {
          "reportdate": "2020-04-27T00:00:00",
          "hospital": "All SF Hospitals",
          "dphcategory": "Med/Surg",
          "covidstatus": "PUI",
          "patientcount": 30
         },
         {
          "reportdate": "2020-04-28T00:00:00",
          "hospital": "All SF Hospitals",
          "dphcategory": "Med/Surg",
          "covidstatus": "PUI",
          "patientcount": 20
         },
         {
          "reportdate": "2020-04-29T00:00:00",
          "hospital": "All SF Hospitals",
          "dphcategory": "Med/Surg",
          "covidstatus": "PUI",
          "patientcount": 21
         },
         {
          "reportdate": "2020-04-30T00:00:00",
          "hospital": "All SF Hospitals",
          "dphcategory": "Med/Surg",
          "covidstatus": "PUI",
          "patientcount": 19
         },
         {
          "reportdate": "2020-05-01T00:00:00",
          "hospital": "All SF Hospitals",
          "dphcategory": "Med/Surg",
          "covidstatus": "PUI",
          "patientcount": 23
         },
         {
          "reportdate": "2020-05-02T00:00:00",
          "hospital": "All SF Hospitals",
          "dphcategory": "Med/Surg",
          "covidstatus": "PUI",
          "patientcount": 17
         },
         {
          "reportdate": "2020-05-03T00:00:00",
          "hospital": "All SF Hospitals",
          "dphcategory": "Med/Surg",
          "covidstatus": "PUI",
          "patientcount": 15
         },
         {
          "reportdate": "2020-05-04T00:00:00",
          "hospital": "All SF Hospitals",
          "dphcategory": "Med/Surg",
          "covidstatus": "PUI",
          "patientcount": 13
         },
         {
          "reportdate": "2020-05-05T00:00:00",
          "hospital": "All SF Hospitals",
          "dphcategory": "Med/Surg",
          "covidstatus": "PUI",
          "patientcount": 27
         },
         {
          "reportdate": "2020-05-06T00:00:00",
          "hospital": "All SF Hospitals",
          "dphcategory": "Med/Surg",
          "covidstatus": "PUI",
          "patientcount": 125
         },
         {
          "reportdate": "2020-05-07T00:00:00",
          "hospital": "All SF Hospitals",
          "dphcategory": "Med/Surg",
          "covidstatus": "PUI",
          "patientcount": 44
         },
         {
          "reportdate": "2020-05-08T00:00:00",
          "hospital": "All SF Hospitals",
          "dphcategory": "Med/Surg",
          "covidstatus": "PUI",
          "patientcount": 24
         },
         {
          "reportdate": "2020-05-09T00:00:00",
          "hospital": "All SF Hospitals",
          "dphcategory": "Med/Surg",
          "covidstatus": "PUI",
          "patientcount": 22
         },
         {
          "reportdate": "2020-05-10T00:00:00",
          "hospital": "All SF Hospitals",
          "dphcategory": "Med/Surg",
          "covidstatus": "PUI",
          "patientcount": 18
         },
         {
          "reportdate": "2020-05-11T00:00:00",
          "hospital": "All SF Hospitals",
          "dphcategory": "Med/Surg",
          "covidstatus": "PUI",
          "patientcount": 60
         },
         {
          "reportdate": "2020-05-12T00:00:00",
          "hospital": "All SF Hospitals",
          "dphcategory": "Med/Surg",
          "covidstatus": "PUI",
          "patientcount": 20
         },
         {
          "reportdate": "2020-05-13T00:00:00",
          "hospital": "All SF Hospitals",
          "dphcategory": "Med/Surg",
          "covidstatus": "PUI",
          "patientcount": 25
         },
         {
          "reportdate": "2020-05-14T00:00:00",
          "hospital": "All SF Hospitals",
          "dphcategory": "Med/Surg",
          "covidstatus": "PUI",
          "patientcount": 25
         },
         {
          "reportdate": "2020-05-15T00:00:00",
          "hospital": "All SF Hospitals",
          "dphcategory": "Med/Surg",
          "covidstatus": "PUI",
          "patientcount": 27
         },
         {
          "reportdate": "2020-05-16T00:00:00",
          "hospital": "All SF Hospitals",
          "dphcategory": "Med/Surg",
          "covidstatus": "PUI",
          "patientcount": 26
         },
         {
          "reportdate": "2020-05-17T00:00:00",
          "hospital": "All SF Hospitals",
          "dphcategory": "Med/Surg",
          "covidstatus": "PUI",
          "patientcount": 30
         },
         {
          "reportdate": "2020-05-18T00:00:00",
          "hospital": "All SF Hospitals",
          "dphcategory": "Med/Surg",
          "covidstatus": "PUI",
          "patientcount": 26
         },
         {
          "reportdate": "2020-05-19T00:00:00",
          "hospital": "All SF Hospitals",
          "dphcategory": "Med/Surg",
          "covidstatus": "PUI",
          "patientcount": 18
         },
         {
          "reportdate": "2020-05-20T00:00:00",
          "hospital": "All SF Hospitals",
          "dphcategory": "Med/Surg",
          "covidstatus": "PUI",
          "patientcount": 30
         },
         {
          "reportdate": "2020-05-21T00:00:00",
          "hospital": "All SF Hospitals",
          "dphcategory": "Med/Surg",
          "covidstatus": "PUI",
          "patientcount": 21
         },
         {
          "reportdate": "2020-05-22T00:00:00",
          "hospital": "All SF Hospitals",
          "dphcategory": "Med/Surg",
          "covidstatus": "PUI",
          "patientcount": 29
         },
         {
          "reportdate": "2020-05-23T00:00:00",
          "hospital": "All SF Hospitals",
          "dphcategory": "Med/Surg",
          "covidstatus": "PUI",
          "patientcount": 31
         },
         {
          "reportdate": "2020-05-24T00:00:00",
          "hospital": "All SF Hospitals",
          "dphcategory": "Med/Surg",
          "covidstatus": "PUI",
          "patientcount": 31
         },
         {
          "reportdate": "2020-05-25T00:00:00",
          "hospital": "All SF Hospitals",
          "dphcategory": "Med/Surg",
          "covidstatus": "PUI",
          "patientcount": 32
         },
         {
          "reportdate": "2020-05-26T00:00:00",
          "hospital": "All SF Hospitals",
          "dphcategory": "Med/Surg",
          "covidstatus": "PUI",
          "patientcount": 29
         },
         {
          "reportdate": "2020-05-27T00:00:00",
          "hospital": "All SF Hospitals",
          "dphcategory": "Med/Surg",
          "covidstatus": "PUI",
          "patientcount": 28
         },
         {
          "reportdate": "2020-05-28T00:00:00",
          "hospital": "All SF Hospitals",
          "dphcategory": "Med/Surg",
          "covidstatus": "PUI",
          "patientcount": 10
         },
         {
          "reportdate": "2020-05-29T00:00:00",
          "hospital": "All SF Hospitals",
          "dphcategory": "Med/Surg",
          "covidstatus": "PUI",
          "patientcount": 17
         },
         {
          "reportdate": "2020-05-30T00:00:00",
          "hospital": "All SF Hospitals",
          "dphcategory": "Med/Surg",
          "covidstatus": "PUI",
          "patientcount": 11
         },
         {
          "reportdate": "2020-05-31T00:00:00",
          "hospital": "All SF Hospitals",
          "dphcategory": "Med/Surg",
          "covidstatus": "PUI",
          "patientcount": 22
         },
         {
          "reportdate": "2020-06-01T00:00:00",
          "hospital": "All SF Hospitals",
          "dphcategory": "Med/Surg",
          "covidstatus": "PUI",
          "patientcount": 18
         },
         {
          "reportdate": "2020-06-02T00:00:00",
          "hospital": "All SF Hospitals",
          "dphcategory": "Med/Surg",
          "covidstatus": "PUI",
          "patientcount": 28
         },
         {
          "reportdate": "2020-06-03T00:00:00",
          "hospital": "All SF Hospitals",
          "dphcategory": "Med/Surg",
          "covidstatus": "PUI",
          "patientcount": 22
         },
         {
          "reportdate": "2020-06-04T00:00:00",
          "hospital": "All SF Hospitals",
          "dphcategory": "Med/Surg",
          "covidstatus": "PUI",
          "patientcount": 22
         },
         {
          "reportdate": "2020-06-05T00:00:00",
          "hospital": "All SF Hospitals",
          "dphcategory": "Med/Surg",
          "covidstatus": "PUI",
          "patientcount": 14
         },
         {
          "reportdate": "2020-06-06T00:00:00",
          "hospital": "All SF Hospitals",
          "dphcategory": "Med/Surg",
          "covidstatus": "PUI",
          "patientcount": 13
         },
         {
          "reportdate": "2020-06-07T00:00:00",
          "hospital": "All SF Hospitals",
          "dphcategory": "Med/Surg",
          "covidstatus": "PUI",
          "patientcount": 13
         },
         {
          "reportdate": "2020-06-08T00:00:00",
          "hospital": "All SF Hospitals",
          "dphcategory": "Med/Surg",
          "covidstatus": "PUI",
          "patientcount": 12
         },
         {
          "reportdate": "2020-06-09T00:00:00",
          "hospital": "All SF Hospitals",
          "dphcategory": "Med/Surg",
          "covidstatus": "PUI",
          "patientcount": 11
         },
         {
          "reportdate": "2020-03-23T00:00:00",
          "hospital": "All SF Hospitals",
          "dphcategory": "ICU",
          "covidstatus": "PUI",
          "patientcount": 21
         },
         {
          "reportdate": "2020-03-24T00:00:00",
          "hospital": "All SF Hospitals",
          "dphcategory": "ICU",
          "covidstatus": "PUI",
          "patientcount": 15
         },
         {
          "reportdate": "2020-03-25T00:00:00",
          "hospital": "All SF Hospitals",
          "dphcategory": "ICU",
          "covidstatus": "PUI",
          "patientcount": 12
         },
         {
          "reportdate": "2020-03-26T00:00:00",
          "hospital": "All SF Hospitals",
          "dphcategory": "ICU",
          "covidstatus": "PUI",
          "patientcount": 13
         },
         {
          "reportdate": "2020-03-27T00:00:00",
          "hospital": "All SF Hospitals",
          "dphcategory": "ICU",
          "covidstatus": "PUI",
          "patientcount": 10
         },
         {
          "reportdate": "2020-03-28T00:00:00",
          "hospital": "All SF Hospitals",
          "dphcategory": "ICU",
          "covidstatus": "PUI",
          "patientcount": 10
         },
         {
          "reportdate": "2020-03-29T00:00:00",
          "hospital": "All SF Hospitals",
          "dphcategory": "ICU",
          "covidstatus": "PUI",
          "patientcount": 16
         },
         {
          "reportdate": "2020-03-30T00:00:00",
          "hospital": "All SF Hospitals",
          "dphcategory": "ICU",
          "covidstatus": "PUI",
          "patientcount": 7
         },
         {
          "reportdate": "2020-03-31T00:00:00",
          "hospital": "All SF Hospitals",
          "dphcategory": "ICU",
          "covidstatus": "PUI",
          "patientcount": 7
         },
         {
          "reportdate": "2020-04-01T00:00:00",
          "hospital": "All SF Hospitals",
          "dphcategory": "ICU",
          "covidstatus": "PUI",
          "patientcount": 15
         },
         {
          "reportdate": "2020-04-02T00:00:00",
          "hospital": "All SF Hospitals",
          "dphcategory": "ICU",
          "covidstatus": "PUI",
          "patientcount": 8
         },
         {
          "reportdate": "2020-04-03T00:00:00",
          "hospital": "All SF Hospitals",
          "dphcategory": "ICU",
          "covidstatus": "PUI",
          "patientcount": 5
         },
         {
          "reportdate": "2020-04-04T00:00:00",
          "hospital": "All SF Hospitals",
          "dphcategory": "ICU",
          "covidstatus": "PUI",
          "patientcount": 14
         },
         {
          "reportdate": "2020-04-05T00:00:00",
          "hospital": "All SF Hospitals",
          "dphcategory": "ICU",
          "covidstatus": "PUI",
          "patientcount": 11
         },
         {
          "reportdate": "2020-04-06T00:00:00",
          "hospital": "All SF Hospitals",
          "dphcategory": "ICU",
          "covidstatus": "PUI",
          "patientcount": 10
         },
         {
          "reportdate": "2020-04-07T00:00:00",
          "hospital": "All SF Hospitals",
          "dphcategory": "ICU",
          "covidstatus": "PUI",
          "patientcount": 8
         },
         {
          "reportdate": "2020-04-08T00:00:00",
          "hospital": "All SF Hospitals",
          "dphcategory": "ICU",
          "covidstatus": "PUI",
          "patientcount": 14
         },
         {
          "reportdate": "2020-04-09T00:00:00",
          "hospital": "All SF Hospitals",
          "dphcategory": "ICU",
          "covidstatus": "PUI",
          "patientcount": 12
         },
         {
          "reportdate": "2020-04-10T00:00:00",
          "hospital": "All SF Hospitals",
          "dphcategory": "ICU",
          "covidstatus": "PUI",
          "patientcount": 13
         },
         {
          "reportdate": "2020-04-11T00:00:00",
          "hospital": "All SF Hospitals",
          "dphcategory": "ICU",
          "covidstatus": "PUI",
          "patientcount": 7
         },
         {
          "reportdate": "2020-04-12T00:00:00",
          "hospital": "All SF Hospitals",
          "dphcategory": "ICU",
          "covidstatus": "PUI",
          "patientcount": 9
         },
         {
          "reportdate": "2020-04-13T00:00:00",
          "hospital": "All SF Hospitals",
          "dphcategory": "ICU",
          "covidstatus": "PUI",
          "patientcount": 5
         },
         {
          "reportdate": "2020-04-14T00:00:00",
          "hospital": "All SF Hospitals",
          "dphcategory": "ICU",
          "covidstatus": "PUI",
          "patientcount": 7
         },
         {
          "reportdate": "2020-04-15T00:00:00",
          "hospital": "All SF Hospitals",
          "dphcategory": "ICU",
          "covidstatus": "PUI",
          "patientcount": 9
         },
         {
          "reportdate": "2020-04-16T00:00:00",
          "hospital": "All SF Hospitals",
          "dphcategory": "ICU",
          "covidstatus": "PUI",
          "patientcount": 9
         },
         {
          "reportdate": "2020-04-17T00:00:00",
          "hospital": "All SF Hospitals",
          "dphcategory": "ICU",
          "covidstatus": "PUI",
          "patientcount": 8
         },
         {
          "reportdate": "2020-04-18T00:00:00",
          "hospital": "All SF Hospitals",
          "dphcategory": "ICU",
          "covidstatus": "PUI",
          "patientcount": 9
         },
         {
          "reportdate": "2020-04-19T00:00:00",
          "hospital": "All SF Hospitals",
          "dphcategory": "ICU",
          "covidstatus": "PUI",
          "patientcount": 7
         },
         {
          "reportdate": "2020-04-20T00:00:00",
          "hospital": "All SF Hospitals",
          "dphcategory": "ICU",
          "covidstatus": "PUI",
          "patientcount": 5
         },
         {
          "reportdate": "2020-04-21T00:00:00",
          "hospital": "All SF Hospitals",
          "dphcategory": "ICU",
          "covidstatus": "PUI",
          "patientcount": 4
         },
         {
          "reportdate": "2020-04-22T00:00:00",
          "hospital": "All SF Hospitals",
          "dphcategory": "ICU",
          "covidstatus": "PUI",
          "patientcount": 6
         },
         {
          "reportdate": "2020-04-23T00:00:00",
          "hospital": "All SF Hospitals",
          "dphcategory": "ICU",
          "covidstatus": "PUI",
          "patientcount": 5
         },
         {
          "reportdate": "2020-04-24T00:00:00",
          "hospital": "All SF Hospitals",
          "dphcategory": "ICU",
          "covidstatus": "PUI",
          "patientcount": 3
         },
         {
          "reportdate": "2020-04-25T00:00:00",
          "hospital": "All SF Hospitals",
          "dphcategory": "ICU",
          "covidstatus": "PUI",
          "patientcount": 4
         },
         {
          "reportdate": "2020-04-26T00:00:00",
          "hospital": "All SF Hospitals",
          "dphcategory": "ICU",
          "covidstatus": "PUI",
          "patientcount": 2
         },
         {
          "reportdate": "2020-04-27T00:00:00",
          "hospital": "All SF Hospitals",
          "dphcategory": "ICU",
          "covidstatus": "PUI",
          "patientcount": 9
         },
         {
          "reportdate": "2020-04-28T00:00:00",
          "hospital": "All SF Hospitals",
          "dphcategory": "ICU",
          "covidstatus": "PUI",
          "patientcount": 8
         },
         {
          "reportdate": "2020-04-29T00:00:00",
          "hospital": "All SF Hospitals",
          "dphcategory": "ICU",
          "covidstatus": "PUI",
          "patientcount": 1
         },
         {
          "reportdate": "2020-04-30T00:00:00",
          "hospital": "All SF Hospitals",
          "dphcategory": "ICU",
          "covidstatus": "PUI",
          "patientcount": 1
         },
         {
          "reportdate": "2020-05-01T00:00:00",
          "hospital": "All SF Hospitals",
          "dphcategory": "ICU",
          "covidstatus": "PUI",
          "patientcount": 6
         },
         {
          "reportdate": "2020-05-02T00:00:00",
          "hospital": "All SF Hospitals",
          "dphcategory": "ICU",
          "covidstatus": "PUI",
          "patientcount": 3
         },
         {
          "reportdate": "2020-05-03T00:00:00",
          "hospital": "All SF Hospitals",
          "dphcategory": "ICU",
          "covidstatus": "PUI",
          "patientcount": 2
         },
         {
          "reportdate": "2020-05-04T00:00:00",
          "hospital": "All SF Hospitals",
          "dphcategory": "ICU",
          "covidstatus": "PUI",
          "patientcount": 0
         },
         {
          "reportdate": "2020-05-05T00:00:00",
          "hospital": "All SF Hospitals",
          "dphcategory": "ICU",
          "covidstatus": "PUI",
          "patientcount": 9
         },
         {
          "reportdate": "2020-05-06T00:00:00",
          "hospital": "All SF Hospitals",
          "dphcategory": "ICU",
          "covidstatus": "PUI",
          "patientcount": 1
         },
         {
          "reportdate": "2020-05-07T00:00:00",
          "hospital": "All SF Hospitals",
          "dphcategory": "ICU",
          "covidstatus": "PUI",
          "patientcount": 3
         },
         {
          "reportdate": "2020-05-08T00:00:00",
          "hospital": "All SF Hospitals",
          "dphcategory": "ICU",
          "covidstatus": "PUI",
          "patientcount": 6
         },
         {
          "reportdate": "2020-05-09T00:00:00",
          "hospital": "All SF Hospitals",
          "dphcategory": "ICU",
          "covidstatus": "PUI",
          "patientcount": 7
         },
         {
          "reportdate": "2020-05-10T00:00:00",
          "hospital": "All SF Hospitals",
          "dphcategory": "ICU",
          "covidstatus": "PUI",
          "patientcount": 10
         },
         {
          "reportdate": "2020-05-11T00:00:00",
          "hospital": "All SF Hospitals",
          "dphcategory": "ICU",
          "covidstatus": "PUI",
          "patientcount": 7
         },
         {
          "reportdate": "2020-05-12T00:00:00",
          "hospital": "All SF Hospitals",
          "dphcategory": "ICU",
          "covidstatus": "PUI",
          "patientcount": 6
         },
         {
          "reportdate": "2020-05-13T00:00:00",
          "hospital": "All SF Hospitals",
          "dphcategory": "ICU",
          "covidstatus": "PUI",
          "patientcount": 7
         },
         {
          "reportdate": "2020-05-14T00:00:00",
          "hospital": "All SF Hospitals",
          "dphcategory": "ICU",
          "covidstatus": "PUI",
          "patientcount": 9
         },
         {
          "reportdate": "2020-05-15T00:00:00",
          "hospital": "All SF Hospitals",
          "dphcategory": "ICU",
          "covidstatus": "PUI",
          "patientcount": 4
         },
         {
          "reportdate": "2020-05-16T00:00:00",
          "hospital": "All SF Hospitals",
          "dphcategory": "ICU",
          "covidstatus": "PUI",
          "patientcount": 5
         },
         {
          "reportdate": "2020-05-17T00:00:00",
          "hospital": "All SF Hospitals",
          "dphcategory": "ICU",
          "covidstatus": "PUI",
          "patientcount": 9
         },
         {
          "reportdate": "2020-05-18T00:00:00",
          "hospital": "All SF Hospitals",
          "dphcategory": "ICU",
          "covidstatus": "PUI",
          "patientcount": 2
         },
         {
          "reportdate": "2020-05-19T00:00:00",
          "hospital": "All SF Hospitals",
          "dphcategory": "ICU",
          "covidstatus": "PUI",
          "patientcount": 6
         },
         {
          "reportdate": "2020-05-20T00:00:00",
          "hospital": "All SF Hospitals",
          "dphcategory": "ICU",
          "covidstatus": "PUI",
          "patientcount": 13
         },
         {
          "reportdate": "2020-05-21T00:00:00",
          "hospital": "All SF Hospitals",
          "dphcategory": "ICU",
          "covidstatus": "PUI",
          "patientcount": 11
         },
         {
          "reportdate": "2020-05-22T00:00:00",
          "hospital": "All SF Hospitals",
          "dphcategory": "ICU",
          "covidstatus": "PUI",
          "patientcount": 7
         },
         {
          "reportdate": "2020-05-23T00:00:00",
          "hospital": "All SF Hospitals",
          "dphcategory": "ICU",
          "covidstatus": "PUI",
          "patientcount": 10
         },
         {
          "reportdate": "2020-05-24T00:00:00",
          "hospital": "All SF Hospitals",
          "dphcategory": "ICU",
          "covidstatus": "PUI",
          "patientcount": 6
         },
         {
          "reportdate": "2020-05-25T00:00:00",
          "hospital": "All SF Hospitals",
          "dphcategory": "ICU",
          "covidstatus": "PUI",
          "patientcount": 14
         },
         {
          "reportdate": "2020-05-26T00:00:00",
          "hospital": "All SF Hospitals",
          "dphcategory": "ICU",
          "covidstatus": "PUI",
          "patientcount": 18
         },
         {
          "reportdate": "2020-05-27T00:00:00",
          "hospital": "All SF Hospitals",
          "dphcategory": "ICU",
          "covidstatus": "PUI",
          "patientcount": 8
         },
         {
          "reportdate": "2020-05-28T00:00:00",
          "hospital": "All SF Hospitals",
          "dphcategory": "ICU",
          "covidstatus": "PUI",
          "patientcount": 7
         },
         {
          "reportdate": "2020-05-29T00:00:00",
          "hospital": "All SF Hospitals",
          "dphcategory": "ICU",
          "covidstatus": "PUI",
          "patientcount": 4
         },
         {
          "reportdate": "2020-05-30T00:00:00",
          "hospital": "All SF Hospitals",
          "dphcategory": "ICU",
          "covidstatus": "PUI",
          "patientcount": 5
         },
         {
          "reportdate": "2020-05-31T00:00:00",
          "hospital": "All SF Hospitals",
          "dphcategory": "ICU",
          "covidstatus": "PUI",
          "patientcount": 4
         },
         {
          "reportdate": "2020-06-01T00:00:00",
          "hospital": "All SF Hospitals",
          "dphcategory": "ICU",
          "covidstatus": "PUI",
          "patientcount": 6
         },
         {
          "reportdate": "2020-06-02T00:00:00",
          "hospital": "All SF Hospitals",
          "dphcategory": "ICU",
          "covidstatus": "PUI",
          "patientcount": 5
         },
         {
          "reportdate": "2020-06-03T00:00:00",
          "hospital": "All SF Hospitals",
          "dphcategory": "ICU",
          "covidstatus": "PUI",
          "patientcount": 5
         },
         {
          "reportdate": "2020-06-04T00:00:00",
          "hospital": "All SF Hospitals",
          "dphcategory": "ICU",
          "covidstatus": "PUI",
          "patientcount": 7
         },
         {
          "reportdate": "2020-06-05T00:00:00",
          "hospital": "All SF Hospitals",
          "dphcategory": "ICU",
          "covidstatus": "PUI",
          "patientcount": 4
         },
         {
          "reportdate": "2020-06-06T00:00:00",
          "hospital": "All SF Hospitals",
          "dphcategory": "ICU",
          "covidstatus": "PUI",
          "patientcount": 1
         },
         {
          "reportdate": "2020-06-07T00:00:00",
          "hospital": "All SF Hospitals",
          "dphcategory": "ICU",
          "covidstatus": "PUI",
          "patientcount": 0
         },
         {
          "reportdate": "2020-06-08T00:00:00",
          "hospital": "All SF Hospitals",
          "dphcategory": "ICU",
          "covidstatus": "PUI",
          "patientcount": 1
         },
         {
          "reportdate": "2020-06-09T00:00:00",
          "hospital": "All SF Hospitals",
          "dphcategory": "ICU",
          "covidstatus": "PUI",
          "patientcount": 0
         }
        ]
       }
      },
      "text/plain": "<VegaLite 3 object>\n\nIf you see this message, it means the renderer has not been properly enabled\nfor the frontend that you are using. For more information, see\nhttps://altair-viz.github.io/user_guide/troubleshooting.html\n"
     },
     "metadata": {},
     "execution_count": 53
    }
   ],
   "source": [
    "import altair as alt\n",
    "\n",
    "alt.Chart(hospitalizations).mark_circle().encode(\n",
    "    x='reportdate',\n",
    "    y='patientcount',\n",
    "    color='dphcategory',\n",
    "    tooltip=['reportdate', 'patientcount']\n",
    ").interactive()"
   ]
  },
  {
   "cell_type": "code",
   "execution_count": 55,
   "metadata": {},
   "outputs": [
    {
     "output_type": "execute_result",
     "data": {
      "text/plain": "array(['COVID+', 'PUI'], dtype=object)"
     },
     "metadata": {},
     "execution_count": 55
    }
   ],
   "source": [
    "hospitalizations['covidstatus'].unique()"
   ]
  },
  {
   "cell_type": "code",
   "execution_count": 71,
   "metadata": {},
   "outputs": [
    {
     "output_type": "execute_result",
     "data": {
      "text/plain": "  age_group  gender  confirmed_cases\n0     61-70    Male              157\n1     61-70  Female              103\n2     71-80  Female               72\n3     31-40    Male              408\n4     31-40  Female              245",
      "text/html": "<div>\n<style scoped>\n    .dataframe tbody tr th:only-of-type {\n        vertical-align: middle;\n    }\n\n    .dataframe tbody tr th {\n        vertical-align: top;\n    }\n\n    .dataframe thead th {\n        text-align: right;\n    }\n</style>\n<table border=\"1\" class=\"dataframe\">\n  <thead>\n    <tr style=\"text-align: right;\">\n      <th></th>\n      <th>age_group</th>\n      <th>gender</th>\n      <th>confirmed_cases</th>\n    </tr>\n  </thead>\n  <tbody>\n    <tr>\n      <th>0</th>\n      <td>61-70</td>\n      <td>Male</td>\n      <td>157</td>\n    </tr>\n    <tr>\n      <th>1</th>\n      <td>61-70</td>\n      <td>Female</td>\n      <td>103</td>\n    </tr>\n    <tr>\n      <th>2</th>\n      <td>71-80</td>\n      <td>Female</td>\n      <td>72</td>\n    </tr>\n    <tr>\n      <th>3</th>\n      <td>31-40</td>\n      <td>Male</td>\n      <td>408</td>\n    </tr>\n    <tr>\n      <th>4</th>\n      <td>31-40</td>\n      <td>Female</td>\n      <td>245</td>\n    </tr>\n  </tbody>\n</table>\n</div>"
     },
     "metadata": {},
     "execution_count": 71
    }
   ],
   "source": [
    "age_gender_url = 'https://data.sfgov.org/resource/sunc-2t3k.csv?$$app_token=yh5qaeaJSvJrdOSv77ZnroO2u'\n",
    "age_gender = pd.read_csv(age_gender_url)\n",
    "age_gender = age_gender.drop('last_updated_at', axis=1)\n",
    "age_gender = age_gender.replace('under 18', '18 under')\n",
    "age_gender.head()"
   ]
  },
  {
   "cell_type": "code",
   "execution_count": 91,
   "metadata": {},
   "outputs": [
    {
     "output_type": "execute_result",
     "data": {
      "application/vnd.vegalite.v3+json": {
       "config": {
        "view": {
         "width": 400,
         "height": 300
        },
        "mark": {
         "tooltip": null
        }
       },
       "data": {
        "name": "data-2849811cd2d847c6ef3b74f0cb4dd3ef"
       },
       "mark": "bar",
       "encoding": {
        "color": {
         "type": "nominal",
         "field": "gender"
        },
        "column": {
         "type": "ordinal",
         "field": "age_group",
         "title": "Age Group"
        },
        "tooltip": [
         {
          "type": "nominal",
          "field": "gender"
         },
         {
          "type": "quantitative",
          "field": "confirmed_cases"
         }
        ],
        "x": {
         "type": "nominal",
         "axis": null,
         "field": "gender",
         "title": "Gender"
        },
        "y": {
         "type": "quantitative",
         "axis": {
          "title": "Confirmed Cases"
         },
         "field": "confirmed_cases"
        }
       },
       "selection": {
        "selector014": {
         "type": "interval",
         "bind": "scales",
         "encodings": [
          "x",
          "y"
         ]
        }
       },
       "$schema": "https://vega.github.io/schema/vega-lite/v3.4.0.json",
       "datasets": {
        "data-2849811cd2d847c6ef3b74f0cb4dd3ef": [
         {
          "age_group": "61-70",
          "gender": "Male",
          "confirmed_cases": 157
         },
         {
          "age_group": "61-70",
          "gender": "Female",
          "confirmed_cases": 103
         },
         {
          "age_group": "71-80",
          "gender": "Female",
          "confirmed_cases": 72
         },
         {
          "age_group": "31-40",
          "gender": "Male",
          "confirmed_cases": 408
         },
         {
          "age_group": "31-40",
          "gender": "Female",
          "confirmed_cases": 245
         },
         {
          "age_group": "31-40",
          "gender": "Unknown",
          "confirmed_cases": 8
         },
         {
          "age_group": "18 under",
          "gender": "Male",
          "confirmed_cases": 92
         },
         {
          "age_group": "71-80",
          "gender": "Male",
          "confirmed_cases": 82
         },
         {
          "age_group": "18-30",
          "gender": "Male",
          "confirmed_cases": 308
         },
         {
          "age_group": "18 under",
          "gender": "Female",
          "confirmed_cases": 101
         },
         {
          "age_group": "18-30",
          "gender": "Unknown",
          "confirmed_cases": 9
         },
         {
          "age_group": "81+",
          "gender": "Female",
          "confirmed_cases": 61
         },
         {
          "age_group": "51-60",
          "gender": "Female",
          "confirmed_cases": 142
         },
         {
          "age_group": "81+",
          "gender": "Male",
          "confirmed_cases": 65
         },
         {
          "age_group": "18-30",
          "gender": "Female",
          "confirmed_cases": 232
         },
         {
          "age_group": "41-50",
          "gender": "Female",
          "confirmed_cases": 178
         },
         {
          "age_group": "51-60",
          "gender": "Male",
          "confirmed_cases": 228
         },
         {
          "age_group": "41-50",
          "gender": "Male",
          "confirmed_cases": 334
         }
        ]
       }
      },
      "text/plain": "<VegaLite 3 object>\n\nIf you see this message, it means the renderer has not been properly enabled\nfor the frontend that you are using. For more information, see\nhttps://altair-viz.github.io/user_guide/troubleshooting.html\n"
     },
     "metadata": {},
     "execution_count": 91
    }
   ],
   "source": [
    "alt.Chart(age_gender).mark_bar().encode(\n",
    "    alt.X('gender:N', title='Gender', axis=None),\n",
    "    alt.Y('confirmed_cases', axis=alt.Axis(title='Confirmed Cases')),\n",
    "    column=alt.Column('age_group:O', title='Age Group'),\n",
    "    color='gender',\n",
    "    tooltip=['gender', 'confirmed_cases']\n",
    ").interactive()"
   ]
  },
  {
   "cell_type": "code",
   "execution_count": null,
   "metadata": {},
   "outputs": [],
   "source": []
  }
 ],
 "metadata": {
  "language_info": {
   "codemirror_mode": {
    "name": "ipython",
    "version": 3
   },
   "file_extension": ".py",
   "mimetype": "text/x-python",
   "name": "python",
   "nbconvert_exporter": "python",
   "pygments_lexer": "ipython3",
   "version": "3.8.2-final"
  },
  "orig_nbformat": 2,
  "kernelspec": {
   "name": "python38264bitcovidenvcondac18f7e440a744a938e0f6a3320490e2f",
   "display_name": "Python 3.8.2 64-bit ('covidenv': conda)"
  }
 },
 "nbformat": 4,
 "nbformat_minor": 2
}